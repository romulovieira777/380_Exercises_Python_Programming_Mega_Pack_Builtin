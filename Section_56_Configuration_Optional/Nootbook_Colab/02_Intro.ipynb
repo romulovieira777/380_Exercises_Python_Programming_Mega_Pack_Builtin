{
 "cells": [
  {
   "cell_type": "markdown",
   "id": "86c2c705",
   "metadata": {},
   "source": [
    "## Sales"
   ]
  },
  {
   "cell_type": "code",
   "execution_count": 1,
   "id": "9652b6fd",
   "metadata": {},
   "outputs": [
    {
     "data": {
      "text/plain": [
       "1900.0"
      ]
     },
     "execution_count": 1,
     "metadata": {},
     "output_type": "execute_result"
    }
   ],
   "source": [
    "revenue = 10000\n",
    "tax = 0.19\n",
    "income = revenue * tax\n",
    "income"
   ]
  },
  {
   "cell_type": "code",
   "execution_count": 2,
   "id": "e6ee3c9c",
   "metadata": {},
   "outputs": [
    {
     "name": "stdout",
     "output_type": "stream",
     "text": [
      "1900.0\n"
     ]
    }
   ],
   "source": [
    "print(income)"
   ]
  },
  {
   "cell_type": "markdown",
   "id": "ceb09795",
   "metadata": {},
   "source": [
    "## Summary"
   ]
  },
  {
   "cell_type": "code",
   "execution_count": 3,
   "id": "d09acd0b",
   "metadata": {},
   "outputs": [
    {
     "data": {
      "text/plain": [
       "'1.24.2'"
      ]
     },
     "execution_count": 3,
     "metadata": {},
     "output_type": "execute_result"
    }
   ],
   "source": [
    "import numpy as np\n",
    "\n",
    "np.__version__"
   ]
  },
  {
   "cell_type": "code",
   "execution_count": 4,
   "id": "b216ddd4",
   "metadata": {},
   "outputs": [],
   "source": [
    "np.random.rand?"
   ]
  },
  {
   "cell_type": "code",
   "execution_count": null,
   "id": "7a808b35",
   "metadata": {},
   "outputs": [],
   "source": [
    "import imageai"
   ]
  },
  {
   "cell_type": "markdown",
   "id": "46d1c1c6",
   "metadata": {},
   "source": [
    "## Mardown"
   ]
  },
  {
   "cell_type": "markdown",
   "id": "0072b5b1",
   "metadata": {},
   "source": [
    "Examples of *mardown*\n",
    "Examples of **markdown**\n",
    "Examples of __markdown__\n",
    "Examples of `markdown`\n",
    "\n",
    "```\n",
    "Examples of mardown\n",
    "```\n",
    "\n",
    "> Python\n",
    "\n",
    "> Code\n",
    "\n",
    "An ordered list:\n",
    "1. One\n",
    "2. Two\n",
    "3. Three\n",
    "\n",
    "\n",
    "An unordered list:\n",
    "* One\n",
    "* Two\n",
    "* Three"
   ]
  },
  {
   "cell_type": "markdown",
   "id": "8560972d",
   "metadata": {},
   "source": [
    "[Google](https://www.google.com/)\n",
    "\n",
    "![Python](https://external-content.duckduckgo.com/iu/?u=https%3A%2F%2Fwallpapercave.com%2Fwp%2Fwp8661113.jpg&f=1&nofb=1&ipt=ce40d9b52113e1a1b8933ae3feabb88ead936697c3b9338d606e791990e17eb3&ipo=images)"
   ]
  },
  {
   "cell_type": "markdown",
   "id": "52eecea5",
   "metadata": {},
   "source": [
    "$y = x^25$\n",
    "\n",
    "$\\frac{1}{n} \\sum_{i=1}^{n}$\n",
    "\n",
    "$A = \\begin{pmatrix}\n",
    "a_{1, 1} & a_{1, 2} \\\\\n",
    "a_{2, 1} & a_{2, 2}\n",
    "\\end{pmatrix}$"
   ]
  },
  {
   "cell_type": "markdown",
   "id": "b8adae65",
   "metadata": {},
   "source": [
    "col1 | col2 | col3\n",
    "-----|------|----\n",
    "val1 |val2  |val3\n",
    "val4 |val5  |val6"
   ]
  }
 ],
 "metadata": {
  "kernelspec": {
   "display_name": "Python 3 (ipykernel)",
   "language": "python",
   "name": "python3"
  },
  "language_info": {
   "codemirror_mode": {
    "name": "ipython",
    "version": 3
   },
   "file_extension": ".py",
   "mimetype": "text/x-python",
   "name": "python",
   "nbconvert_exporter": "python",
   "pygments_lexer": "ipython3",
   "version": "3.11.0"
  }
 },
 "nbformat": 4,
 "nbformat_minor": 5
}
